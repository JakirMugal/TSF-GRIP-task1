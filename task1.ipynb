{
 "cells": [
  {
   "cell_type": "markdown",
   "metadata": {},
   "source": [
    "# Task1 Prediction using Supervised ML\n",
    "# Name: Jakir Husain Luhar\n",
    "# Way: Find best model and use it"
   ]
  },
  {
   "cell_type": "markdown",
   "metadata": {},
   "source": [
    "# Import all usable libraries"
   ]
  },
  {
   "cell_type": "code",
   "execution_count": 1,
   "metadata": {},
   "outputs": [],
   "source": [
    "import pandas as pd\n",
    "import numpy as np\n",
    "from sklearn.linear_model import LinearRegression\n",
    "from sklearn.model_selection import train_test_split\n",
    "import matplotlib.pyplot as plt"
   ]
  },
  {
   "cell_type": "markdown",
   "metadata": {},
   "source": [
    "<-- Load Data -->"
   ]
  },
  {
   "cell_type": "code",
   "execution_count": 2,
   "metadata": {},
   "outputs": [],
   "source": [
    "data=pd.read_csv(\"task1.csv\")"
   ]
  },
  {
   "cell_type": "code",
   "execution_count": 3,
   "metadata": {},
   "outputs": [
    {
     "data": {
      "text/html": [
       "<div>\n",
       "<style scoped>\n",
       "    .dataframe tbody tr th:only-of-type {\n",
       "        vertical-align: middle;\n",
       "    }\n",
       "\n",
       "    .dataframe tbody tr th {\n",
       "        vertical-align: top;\n",
       "    }\n",
       "\n",
       "    .dataframe thead th {\n",
       "        text-align: right;\n",
       "    }\n",
       "</style>\n",
       "<table border=\"1\" class=\"dataframe\">\n",
       "  <thead>\n",
       "    <tr style=\"text-align: right;\">\n",
       "      <th></th>\n",
       "      <th>Hours</th>\n",
       "      <th>Scores</th>\n",
       "    </tr>\n",
       "  </thead>\n",
       "  <tbody>\n",
       "    <tr>\n",
       "      <th>0</th>\n",
       "      <td>2.5</td>\n",
       "      <td>21</td>\n",
       "    </tr>\n",
       "    <tr>\n",
       "      <th>1</th>\n",
       "      <td>5.1</td>\n",
       "      <td>47</td>\n",
       "    </tr>\n",
       "    <tr>\n",
       "      <th>2</th>\n",
       "      <td>3.2</td>\n",
       "      <td>27</td>\n",
       "    </tr>\n",
       "    <tr>\n",
       "      <th>3</th>\n",
       "      <td>8.5</td>\n",
       "      <td>75</td>\n",
       "    </tr>\n",
       "    <tr>\n",
       "      <th>4</th>\n",
       "      <td>3.5</td>\n",
       "      <td>30</td>\n",
       "    </tr>\n",
       "  </tbody>\n",
       "</table>\n",
       "</div>"
      ],
      "text/plain": [
       "   Hours  Scores\n",
       "0    2.5      21\n",
       "1    5.1      47\n",
       "2    3.2      27\n",
       "3    8.5      75\n",
       "4    3.5      30"
      ]
     },
     "execution_count": 3,
     "metadata": {},
     "output_type": "execute_result"
    }
   ],
   "source": [
    "data.head()"
   ]
  },
  {
   "cell_type": "markdown",
   "metadata": {},
   "source": [
    "<-- Define variable -->"
   ]
  },
  {
   "cell_type": "code",
   "execution_count": 4,
   "metadata": {},
   "outputs": [],
   "source": [
    "X = data.iloc[:, :-1].values\n",
    "y = data.iloc[:, 1].values\n",
    "X_train,X_test,y_train,y_test=train_test_split(X,y,random_state=0,test_size=0.3)"
   ]
  },
  {
   "cell_type": "markdown",
   "metadata": {},
   "source": [
    "# Use Linear Regression"
   ]
  },
  {
   "cell_type": "code",
   "execution_count": 5,
   "metadata": {},
   "outputs": [],
   "source": [
    "linearReg=LinearRegression()"
   ]
  },
  {
   "cell_type": "markdown",
   "metadata": {},
   "source": [
    "# Fit Model "
   ]
  },
  {
   "cell_type": "code",
   "execution_count": 6,
   "metadata": {},
   "outputs": [
    {
     "data": {
      "text/plain": [
       "LinearRegression()"
      ]
     },
     "execution_count": 6,
     "metadata": {},
     "output_type": "execute_result"
    }
   ],
   "source": [
    "linearReg.fit(X_train,y_train)"
   ]
  },
  {
   "cell_type": "code",
   "execution_count": 7,
   "metadata": {},
   "outputs": [
    {
     "data": {
      "text/plain": [
       "0.9568211104435257"
      ]
     },
     "execution_count": 7,
     "metadata": {},
     "output_type": "execute_result"
    }
   ],
   "source": [
    "accuracy_Linear=linearReg.score(X_test,y_test)\n",
    "accuracy_Linear"
   ]
  },
  {
   "cell_type": "code",
   "execution_count": 8,
   "metadata": {},
   "outputs": [],
   "source": [
    "# Y=linearReg.coef_*X+linearReg.intercept_\n",
    "pre_linear=linearReg.predict(X)"
   ]
  },
  {
   "cell_type": "code",
   "execution_count": 9,
   "metadata": {},
   "outputs": [
    {
     "data": {
      "image/png": "[encoded data removed]",
      "text/plain": [
       "<Figure size 432x288 with 1 Axes>"
      ]
     },
     "metadata": {
      "needs_background": "light"
     },
     "output_type": "display_data"
    }
   ],
   "source": [
    "plt.title(\"Linear Regression\")\n",
    "plt.scatter(X, y,color='b')\n",
    "plt.plot(X,pre_linear,color='r',label='Linear Regression')\n",
    "plt.xlabel('Hour')\n",
    "plt.ylabel('Percentage')\n",
    "plt.show()"
   ]
  },
  {
   "cell_type": "markdown",
   "metadata": {},
   "source": [
    "## Use polynomial regression"
   ]
  },
  {
   "cell_type": "code",
   "execution_count": 10,
   "metadata": {},
   "outputs": [],
   "source": [
    "from sklearn.preprocessing import PolynomialFeatures\n",
    "from sklearn.pipeline import make_pipeline\n"
   ]
  },
  {
   "cell_type": "code",
   "execution_count": 11,
   "metadata": {},
   "outputs": [
    {
     "name": "stdout",
     "output_type": "stream",
     "text": [
      "0 -0.21996354476764934\n",
      "1 0.9568211104435257\n",
      "2 0.9518734808270334\n",
      "3 0.9589252325354601\n",
      "4 0.9582090906437885\n",
      "5 0.9632734943791974\n",
      "6 0.9149569859047267\n",
      "7 0.7517390910518684\n",
      "8 0.8446225298894854\n",
      "9 -5.876307485898089\n"
     ]
    }
   ],
   "source": [
    "acc=[]\n",
    "for degree in range(10):\n",
    "    polyReg=make_pipeline(PolynomialFeatures(degree),LinearRegression())\n",
    "    polyReg.fit(X_train,y_train)\n",
    "    accuracy=polyReg.score(X_test,y_test)\n",
    "    acc.append(accuracy)\n",
    "    print(degree,accuracy)\n"
   ]
  },
  {
   "cell_type": "code",
   "execution_count": 12,
   "metadata": {},
   "outputs": [
    {
     "data": {
      "text/plain": [
       "0.9632734943791974"
      ]
     },
     "execution_count": 12,
     "metadata": {},
     "output_type": "execute_result"
    }
   ],
   "source": [
    "max(acc)"
   ]
  },
  {
   "cell_type": "markdown",
   "metadata": {},
   "source": [
    "<-- We see that maximum accuracy is get at 5 degree -->"
   ]
  },
  {
   "cell_type": "code",
   "execution_count": 13,
   "metadata": {},
   "outputs": [
    {
     "data": {
      "text/plain": [
       "0.9632734943791974"
      ]
     },
     "execution_count": 13,
     "metadata": {},
     "output_type": "execute_result"
    }
   ],
   "source": [
    "polyReg=make_pipeline(PolynomialFeatures(5),LinearRegression())\n",
    "polyReg.fit(X_train,y_train)\n",
    "accuracy_Poly=polyReg.score(X_test,y_test)\n",
    "accuracy_Poly"
   ]
  },
  {
   "cell_type": "code",
   "execution_count": 14,
   "metadata": {},
   "outputs": [],
   "source": [
    "pre_Poly=polyReg.predict(X.reshape(-1,1))\n",
    "# x_poly=PolynomialFeatures(degree=5).fit_transform(X)\n",
    "sorted_zip = sorted(zip(X,pre_Poly))\n",
    "x_poly, poly_pred = zip(*sorted_zip)"
   ]
  },
  {
   "cell_type": "code",
   "execution_count": 15,
   "metadata": {},
   "outputs": [
    {
     "data": {
      "image/png": "[encoded data removed]",
      "text/plain": [
       "<Figure size 432x288 with 1 Axes>"
      ]
     },
     "metadata": {
      "needs_background": "light"
     },
     "output_type": "display_data"
    }
   ],
   "source": [
    "plt.title(\"Polynomial Regression\")\n",
    "plt.scatter(X, y,color='b')\n",
    "plt.plot(x_poly,poly_pred,color='r',label='Polynomial Regression')\n",
    "plt.xlabel('Hour')\n",
    "plt.ylabel('Percentage')\n",
    "plt.legend()\n",
    "plt.show()\n",
    "\n",
    " "
   ]
  },
  {
   "cell_type": "markdown",
   "metadata": {},
   "source": [
    "# Using Rigde Regression "
   ]
  },
  {
   "cell_type": "code",
   "execution_count": 16,
   "metadata": {},
   "outputs": [],
   "source": [
    "from sklearn.linear_model import Ridge"
   ]
  },
  {
   "cell_type": "code",
   "execution_count": 17,
   "metadata": {},
   "outputs": [
    {
     "name": "stdout",
     "output_type": "stream",
     "text": [
      "0.1 0.9568306248530701\n",
      "0.2 0.9568379137647015\n",
      "0.3 0.9568429899839679\n",
      "0.4 0.9568458662426018\n",
      "0.5 0.9568465551989939\n",
      "0.6 0.956845069438661\n",
      "0.7 0.9568414214747132\n",
      "0.8 0.9568356237483154\n",
      "0.9 0.9568276886291469\n",
      "1.0 0.9568176284158576\n"
     ]
    }
   ],
   "source": [
    "alpha=0.1\n",
    "acc=[]\n",
    "while(alpha<=1.0):\n",
    "    ridgeReg=Ridge(alpha)\n",
    "    ridgeReg.fit(X_train,y_train)\n",
    "    accuracy=ridgeReg.score(X_test,y_test)\n",
    "    print(round(alpha,2),accuracy)\n",
    "    acc.append(accuracy)\n",
    "    alpha=alpha+0.1"
   ]
  },
  {
   "cell_type": "code",
   "execution_count": 18,
   "metadata": {},
   "outputs": [
    {
     "data": {
      "text/plain": [
       "0.9568465551989939"
      ]
     },
     "execution_count": 18,
     "metadata": {},
     "output_type": "execute_result"
    }
   ],
   "source": [
    "max(acc)"
   ]
  },
  {
   "cell_type": "markdown",
   "metadata": {},
   "source": [
    "<-- As we see accuracy is max at 0.5 alpha value -->"
   ]
  },
  {
   "cell_type": "code",
   "execution_count": 19,
   "metadata": {},
   "outputs": [
    {
     "name": "stdout",
     "output_type": "stream",
     "text": [
      "0.9568465551989939\n"
     ]
    }
   ],
   "source": [
    "ridgeReg=Ridge(0.5)\n",
    "ridgeReg.fit(X_train,y_train)\n",
    "accuracy_Ridge=ridgeReg.score(X_test,y_test)\n",
    "print(accuracy_Ridge)"
   ]
  },
  {
   "cell_type": "code",
   "execution_count": 20,
   "metadata": {},
   "outputs": [],
   "source": [
    "pre_ridge=ridgeReg.predict(X)"
   ]
  },
  {
   "cell_type": "code",
   "execution_count": 21,
   "metadata": {},
   "outputs": [
    {
     "data": {
      "image/png": "[encoded data removed]",
      "text/plain": [
       "<Figure size 432x288 with 1 Axes>"
      ]
     },
     "metadata": {
      "needs_background": "light"
     },
     "output_type": "display_data"
    }
   ],
   "source": [
    "plt.title(\"Ridge Regression\")\n",
    "plt.scatter(X, y,color='b')\n",
    "plt.plot(X,pre_ridge,color='r',label='Ridge Regression')\n",
    "plt.xlabel('Hour')\n",
    "plt.ylabel('Percentage')\n",
    "plt.legend()\n",
    "plt.show()\n",
    "\n",
    " "
   ]
  },
  {
   "cell_type": "code",
   "execution_count": null,
   "metadata": {},
   "outputs": [],
   "source": []
  },
  {
   "cell_type": "markdown",
   "metadata": {},
   "source": [
    "# Using Lasso Regression "
   ]
  },
  {
   "cell_type": "code",
   "execution_count": 22,
   "metadata": {},
   "outputs": [],
   "source": [
    "from sklearn.linear_model import Lasso"
   ]
  },
  {
   "cell_type": "code",
   "execution_count": 23,
   "metadata": {},
   "outputs": [
    {
     "name": "stdout",
     "output_type": "stream",
     "text": [
      "0.1 0.9568362295875352\n",
      "0.2 0.956844659330271\n",
      "0.3 0.9568463996717328\n",
      "0.4 0.9568414506119207\n",
      "0.5 0.956829812150835\n",
      "0.6 0.9568114842884753\n",
      "0.7 0.9567864670248418\n",
      "0.8 0.9567547603599345\n",
      "0.9 0.9567163642937534\n",
      "1.0 0.9566712788262984\n"
     ]
    }
   ],
   "source": [
    "alpha=0.1\n",
    "acc=[]\n",
    "while(alpha<=1.0):\n",
    "    lassoReg=Lasso(alpha)\n",
    "    lassoReg.fit(X_train,y_train)\n",
    "    accuracy=lassoReg.score(X_test,y_test)\n",
    "    print(round(alpha,2),accuracy)\n",
    "    acc.append(accuracy)\n",
    "    alpha=alpha+0.1"
   ]
  },
  {
   "cell_type": "code",
   "execution_count": 24,
   "metadata": {},
   "outputs": [
    {
     "data": {
      "text/plain": [
       "0.9568463996717328"
      ]
     },
     "execution_count": 24,
     "metadata": {},
     "output_type": "execute_result"
    }
   ],
   "source": [
    "max(acc)"
   ]
  },
  {
   "cell_type": "markdown",
   "metadata": {},
   "source": [
    "<-- As we see accuracy is max at 0.3 alpha value -->"
   ]
  },
  {
   "cell_type": "code",
   "execution_count": 25,
   "metadata": {},
   "outputs": [
    {
     "data": {
      "text/plain": [
       "0.9568463996717328"
      ]
     },
     "execution_count": 25,
     "metadata": {},
     "output_type": "execute_result"
    }
   ],
   "source": [
    "lassoReg=Lasso(0.3)\n",
    "lassoReg.fit(X_train,y_train)\n",
    "accuracy_Lasso=lassoReg.score(X_test,y_test)\n",
    "accuracy_Lasso"
   ]
  },
  {
   "cell_type": "code",
   "execution_count": 26,
   "metadata": {},
   "outputs": [],
   "source": [
    "pre_lasso=lassoReg.predict(X)"
   ]
  },
  {
   "cell_type": "code",
   "execution_count": 27,
   "metadata": {},
   "outputs": [
    {
     "data": {
      "image/png": "[encoded data removed]",
      "text/plain": [
       "<Figure size 432x288 with 1 Axes>"
      ]
     },
     "metadata": {
      "needs_background": "light"
     },
     "output_type": "display_data"
    }
   ],
   "source": [
    "plt.title(\"Lasso Regression\")\n",
    "plt.scatter(X, y,color='b')\n",
    "plt.plot(X,pre_lasso,color='r',label='Lasso Regression')\n",
    "plt.xlabel('Hour')\n",
    "plt.ylabel('Percentage')\n",
    "plt.legend()\n",
    "plt.show()\n",
    "\n",
    " "
   ]
  },
  {
   "cell_type": "markdown",
   "metadata": {},
   "source": [
    " # Using ElasticNet Regression "
   ]
  },
  {
   "cell_type": "code",
   "execution_count": 28,
   "metadata": {},
   "outputs": [],
   "source": [
    "from sklearn.linear_model import ElasticNet"
   ]
  },
  {
   "cell_type": "code",
   "execution_count": 29,
   "metadata": {},
   "outputs": [
    {
     "name": "stdout",
     "output_type": "stream",
     "text": [
      "0.1 0.9568241524044153\n",
      "0.2 0.956640270262051\n",
      "0.3 0.9562784164925446\n",
      "0.4 0.9557471181662734\n",
      "0.5 0.955054499232343\n",
      "0.6 0.9542083015000149\n",
      "0.7 0.9532159044017755\n",
      "0.8 0.9520843436166535\n",
      "0.9 0.9508203286268017\n",
      "1.0 0.9494302592752049\n"
     ]
    }
   ],
   "source": [
    "alpha=0.1\n",
    "acc=[]\n",
    "while(alpha<=1.0):\n",
    "    elasticReg=ElasticNet(alpha)\n",
    "    elasticReg.fit(X_train,y_train)\n",
    "    accuracy=elasticReg.score(X_test,y_test)\n",
    "    print(round(alpha,2),accuracy)\n",
    "    acc.append(accuracy)\n",
    "    alpha=alpha+0.1"
   ]
  },
  {
   "cell_type": "code",
   "execution_count": 30,
   "metadata": {},
   "outputs": [
    {
     "data": {
      "text/plain": [
       "0.9568241524044153"
      ]
     },
     "execution_count": 30,
     "metadata": {},
     "output_type": "execute_result"
    }
   ],
   "source": [
    "max(acc)"
   ]
  },
  {
   "cell_type": "markdown",
   "metadata": {},
   "source": [
    "<-- As we see accuracy is max at 0.1 alpha value -->"
   ]
  },
  {
   "cell_type": "code",
   "execution_count": 31,
   "metadata": {},
   "outputs": [
    {
     "data": {
      "text/plain": [
       "0.9568241524044153"
      ]
     },
     "execution_count": 31,
     "metadata": {},
     "output_type": "execute_result"
    }
   ],
   "source": [
    "elasticReg=ElasticNet(0.1)\n",
    "elasticReg.fit(X_train,y_train)\n",
    "accuracy_Elastic=elasticReg.score(X_test,y_test)\n",
    "accuracy_Elastic"
   ]
  },
  {
   "cell_type": "code",
   "execution_count": 32,
   "metadata": {},
   "outputs": [],
   "source": [
    "pre_elastic=elasticReg.predict(X)"
   ]
  },
  {
   "cell_type": "code",
   "execution_count": 33,
   "metadata": {},
   "outputs": [
    {
     "data": {
      "image/png": "[encoded data removed]",
      "text/plain": [
       "<Figure size 432x288 with 1 Axes>"
      ]
     },
     "metadata": {
      "needs_background": "light"
     },
     "output_type": "display_data"
    }
   ],
   "source": [
    "plt.title(\"ElasticNet Regression\")\n",
    "plt.scatter(X, y,color='b')\n",
    "plt.plot(X,pre_elastic,color='r',label='ElasticNet Regression')\n",
    "plt.xlabel('Hour')\n",
    "plt.ylabel('Percentage')\n",
    "plt.legend()\n",
    "plt.show()\n",
    "\n",
    " "
   ]
  },
  {
   "cell_type": "code",
   "execution_count": 34,
   "metadata": {},
   "outputs": [
    {
     "data": {
      "image/png": "[encoded data removed]",
      "text/plain": [
       "<Figure size 432x288 with 1 Axes>"
      ]
     },
     "metadata": {
      "needs_background": "light"
     },
     "output_type": "display_data"
    }
   ],
   "source": [
    "plt.title('All regression look like: ')\n",
    "plt.scatter(X,y,color='b')\n",
    "plt.plot(X,pre_elastic,color='y',label='ElasticNet Regression')\n",
    "plt.plot(X,pre_lasso,color='g',label='Lasso Regression')\n",
    "plt.plot(X,pre_ridge,color='c',label='Ridge Regression')\n",
    "plt.plot(x_poly,poly_pred,color='r',label='Polynomial Regression')\n",
    "plt.plot(X,pre_linear,color='m',label='Linear Regression')\n",
    "plt.xlabel('Hour')\n",
    "plt.ylabel('Percentage')\n",
    "plt.legend()\n",
    "plt.show()\n"
   ]
  },
  {
   "cell_type": "markdown",
   "metadata": {},
   "source": [
    "# After All the regressions accuracy look like these:"
   ]
  },
  {
   "cell_type": "code",
   "execution_count": 35,
   "metadata": {},
   "outputs": [
    {
     "data": {
      "text/plain": [
       "{'Linear': 0.9568211104435257,\n",
       " 'Polynomial': 0.9632734943791974,\n",
       " 'Ridge': 0.9568465551989939,\n",
       " 'Lasso': 0.9568463996717328,\n",
       " 'Elastic': 0.9568241524044153}"
      ]
     },
     "execution_count": 35,
     "metadata": {},
     "output_type": "execute_result"
    }
   ],
   "source": [
    "accuracies={'Linear':accuracy_Linear,'Polynomial':accuracy_Poly,'Ridge':accuracy_Ridge,'Lasso':accuracy_Lasso,\n",
    "           'Elastic':accuracy_Elastic}\n",
    "accuracies"
   ]
  },
  {
   "cell_type": "code",
   "execution_count": 36,
   "metadata": {},
   "outputs": [
    {
     "data": {
      "text/plain": [
       "0.9632734943791974"
      ]
     },
     "execution_count": 36,
     "metadata": {},
     "output_type": "execute_result"
    }
   ],
   "source": [
    "max(accuracies.values())"
   ]
  },
  {
   "cell_type": "markdown",
   "metadata": {},
   "source": [
    "<-- As we see heighest accuracy is given by Polynomial so we use polynomial as our main model  -->"
   ]
  },
  {
   "cell_type": "code",
   "execution_count": 37,
   "metadata": {},
   "outputs": [
    {
     "data": {
      "text/plain": [
       "array([90.71644296])"
      ]
     },
     "execution_count": 37,
     "metadata": {},
     "output_type": "execute_result"
    }
   ],
   "source": [
    "predict=polyReg.predict([[9.25]])\n",
    "predict"
   ]
  },
  {
   "cell_type": "code",
   "execution_count": null,
   "metadata": {},
   "outputs": [],
   "source": []
  }
 ],
 "metadata": {
  "kernelspec": {
   "display_name": "Python 3",
   "language": "python",
   "name": "python3"
  },
  "language_info": {
   "codemirror_mode": {
    "name": "ipython",
    "version": 3
   },
   "file_extension": ".py",
   "mimetype": "text/x-python",
   "name": "python",
   "nbconvert_exporter": "python",
   "pygments_lexer": "ipython3",
   "version": "3.8.3"
  }
 },
 "nbformat": 4,
 "nbformat_minor": 4
}
